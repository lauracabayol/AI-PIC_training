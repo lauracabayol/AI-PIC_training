{
 "cells": [
  {
   "cell_type": "code",
   "execution_count": 2,
   "id": "957c8787-9aef-4f7d-a9b3-57356445717d",
   "metadata": {},
   "outputs": [],
   "source": [
    "import numpy as np\n",
    "import pandas as pd\n",
    "import torch\n",
    "\n",
    "import matplotlib.pyplot as plt\n",
    "\n",
    "import time"
   ]
  },
  {
   "cell_type": "markdown",
   "id": "e5032e65-f1f2-4e89-a59d-9cb7de33a374",
   "metadata": {},
   "source": [
    "#### In this notebook, we will benchmark some basic operations with tensors on the cpu and on the gpu"
   ]
  },
  {
   "cell_type": "markdown",
   "id": "23f7ee5a-39bf-40ab-b80f-2da79e3ad1b1",
   "metadata": {},
   "source": [
    "# Benchmarking Tensor Operations\n",
    "\n"
   ]
  },
  {
   "cell_type": "markdown",
   "id": "657d31fe-fe26-4123-8360-50c0b494388d",
   "metadata": {},
   "source": [
    "## PART 1"
   ]
  },
  {
   "cell_type": "code",
   "execution_count": 6,
   "id": "6e4878c7-232f-4087-97d9-e69365d526cb",
   "metadata": {},
   "outputs": [],
   "source": [
    "# Create three compatible random tensors \n",
    "x = torch.tensor([1, 2, 3])\n",
    "y = torch.zeros(2, 3)\n",
    "z = torch.randn(2, 3)"
   ]
  },
  {
   "cell_type": "code",
   "execution_count": 7,
   "id": "231ee19b-f307-40ac-a3cb-2baa9b28a11e",
   "metadata": {},
   "outputs": [
    {
     "name": "stdout",
     "output_type": "stream",
     "text": [
      "tensor([[1., 2., 3.],\n",
      "        [1., 2., 3.]])\n"
     ]
    }
   ],
   "source": [
    "# element-wise addition of two tensors\n",
    "a = x + y\n",
    "print(a)"
   ]
  },
  {
   "cell_type": "code",
   "execution_count": 8,
   "id": "4841bdf1-122d-4f8d-9f7a-ab0912c062e0",
   "metadata": {},
   "outputs": [
    {
     "name": "stdout",
     "output_type": "stream",
     "text": [
      "tensor([[0., -0., -0.],\n",
      "        [-0., 0., -0.]])\n"
     ]
    }
   ],
   "source": [
    "# element-wise multiplication of two tensors\n",
    "b = y * z\n",
    "print(b)"
   ]
  },
  {
   "cell_type": "code",
   "execution_count": 9,
   "id": "01ef23c0-8429-48f8-ad02-e767a2a45b50",
   "metadata": {},
   "outputs": [
    {
     "name": "stdout",
     "output_type": "stream",
     "text": [
      "tensor([[0., 0.],\n",
      "        [0., 0.]])\n"
     ]
    }
   ],
   "source": [
    "# matrix multiplication of two tensors\n",
    "c = y @ z.T\n",
    "print(c)"
   ]
  },
  {
   "cell_type": "markdown",
   "id": "0a833a75-741e-4f25-9e53-0bb096a40fe9",
   "metadata": {},
   "source": [
    "## PART 2"
   ]
  },
  {
   "cell_type": "code",
   "execution_count": 10,
   "id": "3839ad5b-9458-4fc2-ba34-04acf28cd7e2",
   "metadata": {},
   "outputs": [],
   "source": [
    "def benchmark(op, *args):\n",
    "    start = time.time()\n",
    "    op(*args)\n",
    "    end = time.time()\n",
    "    return end - start"
   ]
  },
  {
   "cell_type": "code",
   "execution_count": 11,
   "id": "e326483c-c99d-4bdb-8783-918732a83d0e",
   "metadata": {},
   "outputs": [],
   "source": [
    "def run_benchmarks(op, sizes):\n",
    "    for size in sizes:\n",
    "        x = torch.randn(size, size)\n",
    "        y = torch.randn(size, size)\n",
    "        z = torch.randn(size, size)\n",
    "\n",
    "        cpu_time = benchmark(op, x, y, z)\n",
    "\n",
    "        if torch.cuda.is_available():\n",
    "            x = x.cuda()\n",
    "            y = y.cuda()\n",
    "            z = z.cuda()\n",
    "\n",
    "            gpu_time = benchmark(op, x, y, z)\n",
    "\n",
    "            print(f\"{op.__name__}: size={size}, CPU={cpu_time:.4f}s, GPU={gpu_time:.4f}s\")\n",
    "        else:\n",
    "            print(f\"{op.__name__}: size={size}, CPU={cpu_time:.4f}s\")\n"
   ]
  },
  {
   "cell_type": "code",
   "execution_count": 14,
   "id": "139c3db8-aaac-4c5f-9ee7-ba27de7eb935",
   "metadata": {},
   "outputs": [
    {
     "name": "stdout",
     "output_type": "stream",
     "text": [
      "<lambda>: size=100, CPU=0.0000s, GPU=0.0001s\n",
      "<lambda>: size=200, CPU=0.0005s, GPU=0.0001s\n",
      "<lambda>: size=300, CPU=0.0001s, GPU=0.0000s\n",
      "<lambda>: size=400, CPU=0.0001s, GPU=0.0004s\n",
      "<lambda>: size=500, CPU=0.0002s, GPU=0.0001s\n",
      "<lambda>: size=600, CPU=0.0007s, GPU=0.0000s\n",
      "<lambda>: size=700, CPU=0.0011s, GPU=0.0001s\n",
      "<lambda>: size=800, CPU=0.0006s, GPU=0.0001s\n",
      "<lambda>: size=900, CPU=0.0011s, GPU=0.0000s\n",
      "<lambda>: size=1000, CPU=0.0013s, GPU=0.0001s\n",
      "<lambda>: size=100, CPU=0.0000s, GPU=0.0001s\n",
      "<lambda>: size=200, CPU=0.0001s, GPU=0.0000s\n",
      "<lambda>: size=300, CPU=0.0001s, GPU=0.0000s\n",
      "<lambda>: size=400, CPU=0.0001s, GPU=0.0000s\n",
      "<lambda>: size=500, CPU=0.0002s, GPU=0.0000s\n",
      "<lambda>: size=600, CPU=0.0003s, GPU=0.0001s\n",
      "<lambda>: size=700, CPU=0.0004s, GPU=0.0001s\n",
      "<lambda>: size=800, CPU=0.0005s, GPU=0.0000s\n",
      "<lambda>: size=900, CPU=0.0008s, GPU=0.0000s\n",
      "<lambda>: size=1000, CPU=0.0007s, GPU=0.0000s\n",
      "<lambda>: size=100, CPU=0.0003s, GPU=4.2019s\n",
      "<lambda>: size=200, CPU=0.0009s, GPU=0.0001s\n",
      "<lambda>: size=300, CPU=0.0020s, GPU=0.0001s\n",
      "<lambda>: size=400, CPU=0.0037s, GPU=0.0001s\n",
      "<lambda>: size=500, CPU=0.0054s, GPU=0.0001s\n",
      "<lambda>: size=600, CPU=0.0076s, GPU=0.0001s\n",
      "<lambda>: size=700, CPU=0.0117s, GPU=0.0001s\n",
      "<lambda>: size=800, CPU=0.0162s, GPU=0.0001s\n",
      "<lambda>: size=900, CPU=0.0225s, GPU=0.0001s\n",
      "<lambda>: size=1000, CPU=0.0311s, GPU=0.0001s\n"
     ]
    }
   ],
   "source": [
    "sizes = [100, 200, 300, 400, 500, 600, 700, 800, 900, 1000]\n",
    "\n",
    "for op in [lambda x, y, z: x + y, lambda x, y, z: y * z, lambda x, y, z: y @ z.T]:\n",
    "    run_benchmarks(op, sizes)"
   ]
  }
 ],
 "metadata": {
  "kernelspec": {
   "display_name": "DLenv2",
   "language": "python",
   "name": "dlenv2"
  },
  "language_info": {
   "codemirror_mode": {
    "name": "ipython",
    "version": 3
   },
   "file_extension": ".py",
   "mimetype": "text/x-python",
   "name": "python",
   "nbconvert_exporter": "python",
   "pygments_lexer": "ipython3",
   "version": "3.9.7"
  }
 },
 "nbformat": 4,
 "nbformat_minor": 5
}
